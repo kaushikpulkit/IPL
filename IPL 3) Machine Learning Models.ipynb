{
 "cells": [
  {
   "cell_type": "markdown",
   "metadata": {},
   "source": [
    "# Different Machine Learning Models"
   ]
  },
  {
   "cell_type": "markdown",
   "metadata": {},
   "source": [
    "### Import required Libraries"
   ]
  },
  {
   "cell_type": "code",
   "execution_count": 16,
   "metadata": {},
   "outputs": [],
   "source": [
    "import pandas as pd\n",
    "import numpy as np\n",
    "\n",
    "from sklearn import model_selection\n",
    "from sklearn import metrics\n",
    "\n",
    "import warnings\n",
    "warnings.simplefilter(action = \"ignore\")\n",
    "\n",
    "from mlxtend.classifier import StackingClassifier\n",
    "from sklearn.model_selection import train_test_split"
   ]
  },
  {
   "cell_type": "markdown",
   "metadata": {},
   "source": [
    "### Import Data"
   ]
  },
  {
   "cell_type": "code",
   "execution_count": 17,
   "metadata": {},
   "outputs": [
    {
     "name": "stdout",
     "output_type": "stream",
     "text": [
      "<class 'pandas.core.frame.DataFrame'>\n",
      "RangeIndex: 696 entries, 0 to 695\n",
      "Data columns (total 5 columns):\n",
      "team1_id         696 non-null int64\n",
      "team2_id         696 non-null int64\n",
      "toss_winner      696 non-null int64\n",
      "toss_decision    696 non-null int64\n",
      "venue            696 non-null int64\n",
      "dtypes: int64(5)\n",
      "memory usage: 27.3 KB\n"
     ]
    }
   ],
   "source": [
    "mf = pd.read_csv('mf.csv')\n",
    "x = mf.drop(['winner'],axis=1)\n",
    "y = mf['winner']\n",
    "x.info()"
   ]
  },
  {
   "cell_type": "markdown",
   "metadata": {},
   "source": [
    "### 1) Logistic Regression"
   ]
  },
  {
   "cell_type": "code",
   "execution_count": 18,
   "metadata": {},
   "outputs": [
    {
     "name": "stdout",
     "output_type": "stream",
     "text": [
      "0.29310344827586204\n"
     ]
    }
   ],
   "source": [
    "from sklearn.linear_model import LogisticRegression\n",
    "clf = LogisticRegression().fit(x,y)\n",
    "predictions = clf.predict(x)\n",
    "accuracy = metrics.accuracy_score(y,predictions)\n",
    "print(accuracy)"
   ]
  },
  {
   "cell_type": "code",
   "execution_count": 19,
   "metadata": {},
   "outputs": [
    {
     "name": "stdout",
     "output_type": "stream",
     "text": [
      "0.22857142857142856\n"
     ]
    }
   ],
   "source": [
    "X_train, X_test, y_train, y_test = train_test_split(x,y,test_size=0.05, random_state=0)\n",
    "model = clf.fit(X_train,y_train)\n",
    "predictions = clf.predict(X_test)\n",
    "accuracy = metrics.accuracy_score(y_test,predictions)\n",
    "print(accuracy)"
   ]
  },
  {
   "cell_type": "markdown",
   "metadata": {},
   "source": [
    "### 2) K Nearest Neighbours"
   ]
  },
  {
   "cell_type": "code",
   "execution_count": 20,
   "metadata": {},
   "outputs": [
    {
     "name": "stdout",
     "output_type": "stream",
     "text": [
      "0.5732758620689655\n"
     ]
    }
   ],
   "source": [
    "from sklearn.neighbors import KNeighborsClassifier\n",
    "clf = KNeighborsClassifier(n_neighbors=5).fit(x,y)  #Highest at K=5\n",
    "predictions = clf.predict(x)\n",
    "accuracy = metrics.accuracy_score(y,predictions)\n",
    "print(accuracy)"
   ]
  },
  {
   "cell_type": "code",
   "execution_count": 21,
   "metadata": {},
   "outputs": [
    {
     "name": "stdout",
     "output_type": "stream",
     "text": [
      "0.45714285714285713\n"
     ]
    }
   ],
   "source": [
    "X_train, X_test, y_train, y_test = train_test_split(x,y,test_size=0.05, random_state=0)\n",
    "model = clf.fit(X_train,y_train)\n",
    "predictions = clf.predict(X_test)\n",
    "accuracy = metrics.accuracy_score(y_test,predictions)\n",
    "print(accuracy)"
   ]
  },
  {
   "cell_type": "markdown",
   "metadata": {},
   "source": [
    "### 3) Naive Bayes Classifier"
   ]
  },
  {
   "cell_type": "code",
   "execution_count": 22,
   "metadata": {},
   "outputs": [
    {
     "name": "stdout",
     "output_type": "stream",
     "text": [
      "0.14655172413793102\n"
     ]
    }
   ],
   "source": [
    "from sklearn.naive_bayes import GaussianNB\n",
    "clf = GaussianNB().fit(x,y)\n",
    "predictions = clf.predict(x)\n",
    "accuracy = metrics.accuracy_score(y,predictions)\n",
    "print(accuracy)"
   ]
  },
  {
   "cell_type": "code",
   "execution_count": 23,
   "metadata": {},
   "outputs": [
    {
     "name": "stdout",
     "output_type": "stream",
     "text": [
      "0.14285714285714285\n"
     ]
    }
   ],
   "source": [
    "X_train, X_test, y_train, y_test = train_test_split(x,y,test_size=0.05, random_state=0)\n",
    "model = clf.fit(X_train,y_train)\n",
    "predictions = clf.predict(X_test)\n",
    "accuracy = metrics.accuracy_score(y_test,predictions)\n",
    "print(accuracy)"
   ]
  },
  {
   "cell_type": "markdown",
   "metadata": {},
   "source": [
    "### 4) Decision Tree Classifier"
   ]
  },
  {
   "cell_type": "code",
   "execution_count": 24,
   "metadata": {},
   "outputs": [
    {
     "name": "stdout",
     "output_type": "stream",
     "text": [
      "0.8620689655172413\n"
     ]
    }
   ],
   "source": [
    "from sklearn.tree import DecisionTreeClassifier\n",
    "clf = DecisionTreeClassifier().fit(x,y)\n",
    "predictions = clf.predict(x)\n",
    "accuracy = metrics.accuracy_score(y,predictions)\n",
    "print(accuracy)"
   ]
  },
  {
   "cell_type": "code",
   "execution_count": 25,
   "metadata": {},
   "outputs": [
    {
     "name": "stdout",
     "output_type": "stream",
     "text": [
      "0.6285714285714286\n"
     ]
    }
   ],
   "source": [
    "X_train, X_test, y_train, y_test = train_test_split(x,y,test_size=0.05, random_state=0)\n",
    "model = clf.fit(X_train,y_train)\n",
    "predictions = clf.predict(X_test)\n",
    "accuracy = metrics.accuracy_score(y_test,predictions)\n",
    "print(accuracy)"
   ]
  },
  {
   "cell_type": "markdown",
   "metadata": {},
   "source": [
    "### 5) Random Forest Classifier"
   ]
  },
  {
   "cell_type": "code",
   "execution_count": 76,
   "metadata": {},
   "outputs": [
    {
     "name": "stdout",
     "output_type": "stream",
     "text": [
      "0.7758620689655172\n"
     ]
    }
   ],
   "source": [
    "from sklearn.ensemble import RandomForestClassifier\n",
    "clf =  RandomForestClassifier(n_estimators=50,random_state=3,max_depth=8).fit(x,y)\n",
    "predictions = clf.predict(x)\n",
    "accuracy = metrics.accuracy_score(y,predictions)\n",
    "print(accuracy)"
   ]
  },
  {
   "cell_type": "code",
   "execution_count": 77,
   "metadata": {},
   "outputs": [
    {
     "name": "stdout",
     "output_type": "stream",
     "text": [
      "0.7428571428571429\n"
     ]
    }
   ],
   "source": [
    "X_train, X_test, y_train, y_test = train_test_split(x,y,test_size=0.05, random_state=0)\n",
    "model = clf.fit(X_train,y_train)\n",
    "predictions = clf.predict(X_test)\n",
    "accuracy = metrics.accuracy_score(y_test,predictions)\n",
    "print(accuracy)"
   ]
  },
  {
   "cell_type": "markdown",
   "metadata": {},
   "source": [
    "### 6) XGBoost Classifier"
   ]
  },
  {
   "cell_type": "code",
   "execution_count": 52,
   "metadata": {},
   "outputs": [
    {
     "name": "stdout",
     "output_type": "stream",
     "text": [
      "0.7385057471264368\n"
     ]
    }
   ],
   "source": [
    "import xgboost as xgb\n",
    "clf = xgb.XGBClassifier(max_depth=1000, learning_rate=0.1, n_estimators=10, objective='binary:logistic', booster='dart')\n",
    "clf = clf.fit(x,y)\n",
    "predictions = clf.predict(x)\n",
    "accuracy = metrics.accuracy_score(y,predictions)\n",
    "print(accuracy)"
   ]
  },
  {
   "cell_type": "code",
   "execution_count": 68,
   "metadata": {},
   "outputs": [
    {
     "name": "stdout",
     "output_type": "stream",
     "text": [
      "0.7428571428571429\n"
     ]
    }
   ],
   "source": [
    "X_train, X_test, y_train, y_test = train_test_split(x,y,test_size=0.05, random_state=0)\n",
    "model = clf.fit(X_train,y_train)\n",
    "predictions = clf.predict(X_test)\n",
    "accuracy = metrics.accuracy_score(y_test,predictions)\n",
    "print(accuracy)"
   ]
  },
  {
   "cell_type": "markdown",
   "metadata": {},
   "source": [
    "## Stacking Classifiers"
   ]
  },
  {
   "cell_type": "code",
   "execution_count": 101,
   "metadata": {},
   "outputs": [],
   "source": [
    "clf1 = KNeighborsClassifier(n_neighbors=5)\n",
    "clf2 = LogisticRegression()\n",
    "clf3 = GaussianNB()\n",
    "clf4 = RandomForestClassifier(n_estimators=25,max_depth=8)\n",
    "clf5 = DecisionTreeClassifier()\n",
    "clf6 =  xgb.XGBClassifier(max_depth=1000, learning_rate=0.1, n_estimators=10, verbosity=2, silent=False, objective='binary:logistic', booster='dart', n_jobs=1, nthread=None, gamma=0, min_child_weight=1, max_delta_step=0, subsample=1, colsample_bytree=1, colsample_bylevel=1, colsample_bynode=1, reg_alpha=0, reg_lambda=1, scale_pos_weight=1, base_score=0.5, random_state=0, seed=None, missing=None)\n",
    "mc =  RandomForestClassifier(n_estimators=20,max_depth=8)\n",
    "sclf = StackingClassifier(classifiers=[clf1, clf2, clf3,clf4,clf5,clf6], \n",
    "                          meta_classifier=mc)"
   ]
  },
  {
   "cell_type": "code",
   "execution_count": 100,
   "metadata": {},
   "outputs": [
    {
     "name": "stdout",
     "output_type": "stream",
     "text": [
      "0.8548850574712644\n"
     ]
    }
   ],
   "source": [
    "model = sclf.fit(x,y)\n",
    "predictions = sclf.predict(x)\n",
    "accuracy = metrics.accuracy_score(y,predictions)\n",
    "print(accuracy)"
   ]
  },
  {
   "cell_type": "code",
   "execution_count": 117,
   "metadata": {},
   "outputs": [
    {
     "name": "stdout",
     "output_type": "stream",
     "text": [
      "0.6857142857142857\n"
     ]
    }
   ],
   "source": [
    "X_train, X_test, y_train, y_test = train_test_split(x,y,test_size=0.05,random_state=1)\n",
    "model = sclf.fit(X_train,y_train)\n",
    "predictions = sclf.predict(X_test)\n",
    "accuracy = metrics.accuracy_score(y_test,predictions)\n",
    "print(accuracy)"
   ]
  }
 ],
 "metadata": {
  "kernelspec": {
   "display_name": "Python 3",
   "language": "python",
   "name": "python3"
  },
  "language_info": {
   "codemirror_mode": {
    "name": "ipython",
    "version": 3
   },
   "file_extension": ".py",
   "mimetype": "text/x-python",
   "name": "python",
   "nbconvert_exporter": "python",
   "pygments_lexer": "ipython3",
   "version": "3.6.6"
  }
 },
 "nbformat": 4,
 "nbformat_minor": 2
}
